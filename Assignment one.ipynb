{
 "cells": [
  {
   "cell_type": "markdown",
   "id": "b63a7879",
   "metadata": {},
   "source": [
    "1) * -   -EXPRESSION\n",
    "   hello - vALUE\n",
    "   -87.8 - VALUE\n",
    "   -     - EXPRESSION\n",
    "   /     - EXPRESSION\n",
    "   +     - EXPRESSION\n",
    "   6     - VALUE"
   ]
  },
  {
   "cell_type": "markdown",
   "id": "48e35dd5",
   "metadata": {},
   "source": [
    "2) A string is a data type where we can store data as alphabetic texts.\n",
    "   For example - a =\"My name is muqsith\"\n",
    "   \n",
    "   A variable is a data type where we can store data and asigning a value and is stored in memory RAM where we can make use the   memory adress easily.\n",
    "  \n",
    "  For example - b=5\n",
    "  here b is variable where 5 is stored in b as integer."
   ]
  },
  {
   "cell_type": "code",
   "execution_count": 4,
   "id": "d58dc209",
   "metadata": {},
   "outputs": [],
   "source": [
    "a =\"My name is muqsith\""
   ]
  },
  {
   "cell_type": "code",
   "execution_count": 5,
   "id": "ef44990d",
   "metadata": {},
   "outputs": [
    {
     "data": {
      "text/plain": [
       "str"
      ]
     },
     "execution_count": 5,
     "metadata": {},
     "output_type": "execute_result"
    }
   ],
   "source": [
    "type(a)"
   ]
  },
  {
   "cell_type": "code",
   "execution_count": 9,
   "id": "743644df",
   "metadata": {},
   "outputs": [],
   "source": [
    "b=5"
   ]
  },
  {
   "cell_type": "code",
   "execution_count": 10,
   "id": "6d6a13ef",
   "metadata": {},
   "outputs": [
    {
     "data": {
      "text/plain": [
       "int"
      ]
     },
     "execution_count": 10,
     "metadata": {},
     "output_type": "execute_result"
    }
   ],
   "source": [
    "type(b)"
   ]
  },
  {
   "cell_type": "markdown",
   "id": "cee473fb",
   "metadata": {},
   "source": [
    "3) Three types of data types:\n",
    " Integer, String, float ,boolean, List etc."
   ]
  },
  {
   "cell_type": "markdown",
   "id": "e3d5f069",
   "metadata": {},
   "source": [
    "4) Expression is defined as combination of variables,values with mathematical operators.\n",
    " Eg: c=5+6\n",
    "     c=11"
   ]
  },
  {
   "cell_type": "code",
   "execution_count": 17,
   "id": "03adfbfc",
   "metadata": {},
   "outputs": [],
   "source": [
    "c=5+6;"
   ]
  },
  {
   "cell_type": "code",
   "execution_count": 18,
   "id": "533ec33c",
   "metadata": {},
   "outputs": [
    {
     "data": {
      "text/plain": [
       "11"
      ]
     },
     "execution_count": 18,
     "metadata": {},
     "output_type": "execute_result"
    }
   ],
   "source": [
    "c"
   ]
  },
  {
   "cell_type": "markdown",
   "id": "7d583e6e",
   "metadata": {},
   "source": [
    "5) Expresion is combination of variables,values and mathematical operators.\n",
    "   Statements can be defined as code written where we can execute it.\n",
    "   Basically an expression has a value, statement can be anything in python where compiler can execute."
   ]
  },
  {
   "cell_type": "code",
   "execution_count": 19,
   "id": "fb6a76b2",
   "metadata": {},
   "outputs": [],
   "source": [
    "spam=10"
   ]
  },
  {
   "cell_type": "code",
   "execution_count": 20,
   "id": "02209803",
   "metadata": {},
   "outputs": [
    {
     "data": {
      "text/plain": [
       "int"
      ]
     },
     "execution_count": 20,
     "metadata": {},
     "output_type": "execute_result"
    }
   ],
   "source": [
    "type(spam)"
   ]
  },
  {
   "cell_type": "code",
   "execution_count": 21,
   "id": "67ee7e62",
   "metadata": {},
   "outputs": [
    {
     "data": {
      "text/plain": [
       "10"
      ]
     },
     "execution_count": 21,
     "metadata": {},
     "output_type": "execute_result"
    }
   ],
   "source": [
    "spam"
   ]
  },
  {
   "cell_type": "markdown",
   "id": "d85bf54c",
   "metadata": {},
   "source": [
    "6) bacon variable is assigned as value of integer 22 \n",
    "   when we call bacon+1 it gives us output with 23."
   ]
  },
  {
   "cell_type": "code",
   "execution_count": 24,
   "id": "730cf086",
   "metadata": {},
   "outputs": [],
   "source": [
    "bacon=22"
   ]
  },
  {
   "cell_type": "code",
   "execution_count": 25,
   "id": "009c1356",
   "metadata": {},
   "outputs": [
    {
     "data": {
      "text/plain": [
       "23"
      ]
     },
     "execution_count": 25,
     "metadata": {},
     "output_type": "execute_result"
    }
   ],
   "source": [
    "bacon+1"
   ]
  },
  {
   "cell_type": "code",
   "execution_count": 26,
   "id": "66a95e07",
   "metadata": {},
   "outputs": [
    {
     "data": {
      "text/plain": [
       "22"
      ]
     },
     "execution_count": 26,
     "metadata": {},
     "output_type": "execute_result"
    }
   ],
   "source": [
    "bacon"
   ]
  },
  {
   "cell_type": "markdown",
   "id": "f445afb4",
   "metadata": {},
   "source": [
    "7)'spam' + 'spamspam' gives us a result of adding two strings into single string value with output 'spamspamspam'\n",
    "'spam' * 3 results in multiplying the string to 3 times to a single string value with output 'spam' 'spamspamspam'\n",
    " "
   ]
  },
  {
   "cell_type": "code",
   "execution_count": 27,
   "id": "f977fc2f",
   "metadata": {},
   "outputs": [
    {
     "data": {
      "text/plain": [
       "'spamspamspam'"
      ]
     },
     "execution_count": 27,
     "metadata": {},
     "output_type": "execute_result"
    }
   ],
   "source": [
    "'spam' + 'spamspam'"
   ]
  },
  {
   "cell_type": "code",
   "execution_count": 35,
   "id": "b589d0ca",
   "metadata": {},
   "outputs": [
    {
     "data": {
      "text/plain": [
       "'spamspamspam'"
      ]
     },
     "execution_count": 35,
     "metadata": {},
     "output_type": "execute_result"
    }
   ],
   "source": [
    "'spam' * 3"
   ]
  },
  {
   "cell_type": "markdown",
   "id": "2dd3b1d0",
   "metadata": {},
   "source": [
    "100 is invalid because we cannot use number as variable at the begining in python.\n",
    "variable name should start with letter in python\n",
    "\n",
    "Eg:- 100 is invalid\n",
    "    but a100 is valid"
   ]
  },
  {
   "cell_type": "code",
   "execution_count": null,
   "id": "27ca264a",
   "metadata": {},
   "outputs": [],
   "source": []
  },
  {
   "cell_type": "code",
   "execution_count": null,
   "id": "512a91d2",
   "metadata": {},
   "outputs": [],
   "source": []
  },
  {
   "cell_type": "code",
   "execution_count": null,
   "id": "b2789fdf",
   "metadata": {},
   "outputs": [],
   "source": []
  },
  {
   "cell_type": "code",
   "execution_count": null,
   "id": "724de826",
   "metadata": {},
   "outputs": [],
   "source": []
  }
 ],
 "metadata": {
  "kernelspec": {
   "display_name": "Python 3 (ipykernel)",
   "language": "python",
   "name": "python3"
  },
  "language_info": {
   "codemirror_mode": {
    "name": "ipython",
    "version": 3
   },
   "file_extension": ".py",
   "mimetype": "text/x-python",
   "name": "python",
   "nbconvert_exporter": "python",
   "pygments_lexer": "ipython3",
   "version": "3.9.12"
  }
 },
 "nbformat": 4,
 "nbformat_minor": 5
}
